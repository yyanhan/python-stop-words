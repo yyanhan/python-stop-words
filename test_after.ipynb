{
 "cells": [
  {
   "cell_type": "code",
   "execution_count": 1,
   "metadata": {},
   "outputs": [],
   "source": [
    "from stop_words import get_stop_words"
   ]
  },
  {
   "cell_type": "markdown",
   "metadata": {},
   "source": [
    "# Showcase after"
   ]
  },
  {
   "cell_type": "markdown",
   "metadata": {},
   "source": [
    "## Obtain a list from function `get_stop_words`"
   ]
  },
  {
   "cell_type": "code",
   "execution_count": 2,
   "metadata": {},
   "outputs": [
    {
     "name": "stdout",
     "output_type": "stream",
     "text": [
      "number of words in exteneded list:\t 1298\n",
      "number of words in original function:\t 1298\n",
      "latest word in exteneded list:\t zr\n",
      "latest word in original function:\t zr\n",
      "new word in exteneded list:\t False\n",
      "new word in original function:\t False\n"
     ]
    }
   ],
   "source": [
    "en_stop_words = get_stop_words('en')\n",
    "print(\"number of words in exteneded list:\\t\",       len(en_stop_words))\n",
    "print(\"number of words in original function:\\t\",    len(get_stop_words('en')))\n",
    "\n",
    "print(\"latest word in exteneded list:\\t\",           en_stop_words[-1])\n",
    "print(\"latest word in original function:\\t\",        get_stop_words('en')[-1])\n",
    "\n",
    "print(\"new word in exteneded list:\\t\",              'harrypotter' in en_stop_words)\n",
    "print(\"new word in original function:\\t\",           'harrypotter' in get_stop_words('en'))"
   ]
  },
  {
   "cell_type": "markdown",
   "metadata": {},
   "source": [
    "## Add words in the Obtained List"
   ]
  },
  {
   "cell_type": "code",
   "execution_count": 3,
   "metadata": {},
   "outputs": [
    {
     "name": "stdout",
     "output_type": "stream",
     "text": [
      "number of words in exteneded list:\t 1299\n",
      "number of words in original function:\t 1298\n",
      "latest word in exteneded list:\t harrypotter\n",
      "latest word in original function:\t zr\n",
      "new word in exteneded list:\t True\n",
      "new word in original function:\t False\n"
     ]
    }
   ],
   "source": [
    "en_stop_words.append('harrypotter')\n",
    "print(\"number of words in exteneded list:\\t\",       len(en_stop_words))\n",
    "print(\"number of words in original function:\\t\",    len(get_stop_words('en')))\n",
    "\n",
    "print(\"latest word in exteneded list:\\t\",           en_stop_words[-1])\n",
    "print(\"latest word in original function:\\t\",        get_stop_words('en')[-1])\n",
    "\n",
    "print(\"new word in exteneded list:\\t\",              'harrypotter' in en_stop_words)\n",
    "print(\"new word in original function:\\t\",           'harrypotter' in get_stop_words('en'))\n",
    "\n",
    "# obtained list is modified\n",
    "# get_stop_words() is clean"
   ]
  },
  {
   "cell_type": "markdown",
   "metadata": {},
   "source": [
    "## Obtain a list from function `get_stop_words` **again**"
   ]
  },
  {
   "cell_type": "code",
   "execution_count": 4,
   "metadata": {},
   "outputs": [
    {
     "name": "stdout",
     "output_type": "stream",
     "text": [
      "number of words in exteneded list:\t 1299\n",
      "number of words in original function:\t 1298\n",
      "number of words in newly obtained list:\t 1298\n",
      "latest word in exteneded list:\t harrypotter\n",
      "latest word in original function:\t zr\n",
      "latest word in newly obtained list:\t zr\n",
      "new word in exteneded list:\t True\n",
      "new word in original function:\t False\n",
      "new word in newly obtained list:\t False\n"
     ]
    }
   ],
   "source": [
    "en_stop_words_again = get_stop_words('en')\n",
    "print(\"number of words in exteneded list:\\t\",       len(en_stop_words))\n",
    "print(\"number of words in original function:\\t\",    len(get_stop_words('en')))\n",
    "print(\"number of words in newly obtained list:\\t\",       len(en_stop_words_again))\n",
    "\n",
    "print(\"latest word in exteneded list:\\t\",           en_stop_words[-1])\n",
    "print(\"latest word in original function:\\t\",        get_stop_words('en')[-1])\n",
    "print(\"latest word in newly obtained list:\\t\",           en_stop_words_again[-1])\n",
    "\n",
    "print(\"new word in exteneded list:\\t\",              'harrypotter' in en_stop_words)\n",
    "print(\"new word in original function:\\t\",           'harrypotter' in get_stop_words('en'))\n",
    "print(\"new word in newly obtained list:\\t\",              'harrypotter' in en_stop_words_again)\n",
    "\n",
    "# get_stop_words() is clean\n",
    "# en_stop_words_again is clean"
   ]
  }
 ],
 "metadata": {
  "kernelspec": {
   "display_name": "env",
   "language": "python",
   "name": "env"
  },
  "language_info": {
   "codemirror_mode": {
    "name": "ipython",
    "version": 3
   },
   "file_extension": ".py",
   "mimetype": "text/x-python",
   "name": "python",
   "nbconvert_exporter": "python",
   "pygments_lexer": "ipython3",
   "version": "3.10.11"
  }
 },
 "nbformat": 4,
 "nbformat_minor": 2
}
